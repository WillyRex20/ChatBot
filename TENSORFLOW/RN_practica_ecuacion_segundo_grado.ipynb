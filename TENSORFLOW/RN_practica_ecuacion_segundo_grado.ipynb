{
 "cells": [
  {
   "cell_type": "markdown",
   "id": "d3b289b4",
   "metadata": {},
   "source": [
    "sdgdfjfgj"
   ]
  },
  {
   "cell_type": "markdown",
   "id": "a02fe6da",
   "metadata": {},
   "source": [
    "Importamos las librerias necesarias"
   ]
  },
  {
   "cell_type": "code",
   "execution_count": 7,
   "id": "ba9385c9",
   "metadata": {},
   "outputs": [],
   "source": [
    "import numpy as np\n",
    "import tensorflow as tf\n",
    "from sklearn.model_selection import train_test_split\n",
    "import matplotlib.pyplot as plt"
   ]
  },
  {
   "cell_type": "code",
   "execution_count": 8,
   "id": "63415533",
   "metadata": {},
   "outputs": [],
   "source": [
    "def generar_dataset(n=10000):\n",
    "    X = []\n",
    "    y = []\n",
    "    for _ in range(n):\n",
    "        a = np.random.uniform(1, 10)   \n",
    "        b = np.random.uniform(-20, 20)\n",
    "        c = np.random.uniform(-20, 20)\n",
    "\n",
    "        discriminante = b**2 - 4*a*c\n",
    "        if discriminante >= 0: \n",
    "            x1 = (-b + np.sqrt(discriminante)) / (2*a)\n",
    "            x2 = (-b - np.sqrt(discriminante)) / (2*a)\n",
    "\n",
    "            X.append([a, b, c])\n",
    "            y.append([x1, x2])\n",
    "    return np.array(X), np.array(y)\n",
    "\n",
    "X, y = generar_dataset(20000)\n",
    "X_train, X_test, y_train, y_test = train_test_split(X, y, test_size=0.2)"
   ]
  },
  {
   "cell_type": "code",
   "execution_count": 9,
   "id": "e3eb8e13",
   "metadata": {},
   "outputs": [],
   "source": [
    "model = tf.keras.Sequential([\n",
    "    tf.keras.layers.Dense(64, activation='relu', input_shape=(3,)),\n",
    "    tf.keras.layers.Dense(64, activation='relu'),\n",
    "    tf.keras.layers.Dense(2)  \n",
    "])\n",
    "\n",
    "model.compile(optimizer='adam', loss='mse', metrics=['mae'])"
   ]
  },
  {
   "cell_type": "code",
   "execution_count": 10,
   "id": "a3127961",
   "metadata": {},
   "outputs": [
    {
     "name": "stdout",
     "output_type": "stream",
     "text": [
      "Epoch 1/50\n",
      "\u001b[1m270/270\u001b[0m \u001b[32m━━━━━━━━━━━━━━━━━━━━\u001b[0m\u001b[37m\u001b[0m \u001b[1m1s\u001b[0m 2ms/step - loss: 1.9802 - mae: 0.7649 - val_loss: 0.7599 - val_mae: 0.5306\n",
      "Epoch 2/50\n",
      "\u001b[1m270/270\u001b[0m \u001b[32m━━━━━━━━━━━━━━━━━━━━\u001b[0m\u001b[37m\u001b[0m \u001b[1m0s\u001b[0m 965us/step - loss: 0.5635 - mae: 0.4345 - val_loss: 0.3674 - val_mae: 0.3559\n",
      "Epoch 3/50\n",
      "\u001b[1m270/270\u001b[0m \u001b[32m━━━━━━━━━━━━━━━━━━━━\u001b[0m\u001b[37m\u001b[0m \u001b[1m0s\u001b[0m 951us/step - loss: 0.2931 - mae: 0.3180 - val_loss: 0.1987 - val_mae: 0.2769\n",
      "Epoch 4/50\n",
      "\u001b[1m270/270\u001b[0m \u001b[32m━━━━━━━━━━━━━━━━━━━━\u001b[0m\u001b[37m\u001b[0m \u001b[1m0s\u001b[0m 958us/step - loss: 0.1818 - mae: 0.2595 - val_loss: 0.1419 - val_mae: 0.2335\n",
      "Epoch 5/50\n",
      "\u001b[1m270/270\u001b[0m \u001b[32m━━━━━━━━━━━━━━━━━━━━\u001b[0m\u001b[37m\u001b[0m \u001b[1m0s\u001b[0m 958us/step - loss: 0.1215 - mae: 0.2150 - val_loss: 0.0829 - val_mae: 0.1786\n",
      "Epoch 6/50\n",
      "\u001b[1m270/270\u001b[0m \u001b[32m━━━━━━━━━━━━━━━━━━━━\u001b[0m\u001b[37m\u001b[0m \u001b[1m0s\u001b[0m 950us/step - loss: 0.0862 - mae: 0.1840 - val_loss: 0.0696 - val_mae: 0.1636\n",
      "Epoch 7/50\n",
      "\u001b[1m270/270\u001b[0m \u001b[32m━━━━━━━━━━━━━━━━━━━━\u001b[0m\u001b[37m\u001b[0m \u001b[1m0s\u001b[0m 957us/step - loss: 0.0578 - mae: 0.1499 - val_loss: 0.0574 - val_mae: 0.1577\n",
      "Epoch 8/50\n",
      "\u001b[1m270/270\u001b[0m \u001b[32m━━━━━━━━━━━━━━━━━━━━\u001b[0m\u001b[37m\u001b[0m \u001b[1m0s\u001b[0m 960us/step - loss: 0.0469 - mae: 0.1363 - val_loss: 0.0879 - val_mae: 0.1815\n",
      "Epoch 9/50\n",
      "\u001b[1m270/270\u001b[0m \u001b[32m━━━━━━━━━━━━━━━━━━━━\u001b[0m\u001b[37m\u001b[0m \u001b[1m0s\u001b[0m 960us/step - loss: 0.0395 - mae: 0.1259 - val_loss: 0.0336 - val_mae: 0.1251\n",
      "Epoch 10/50\n",
      "\u001b[1m270/270\u001b[0m \u001b[32m━━━━━━━━━━━━━━━━━━━━\u001b[0m\u001b[37m\u001b[0m \u001b[1m0s\u001b[0m 960us/step - loss: 0.0314 - mae: 0.1141 - val_loss: 0.0285 - val_mae: 0.1168\n",
      "Epoch 11/50\n",
      "\u001b[1m270/270\u001b[0m \u001b[32m━━━━━━━━━━━━━━━━━━━━\u001b[0m\u001b[37m\u001b[0m \u001b[1m0s\u001b[0m 1ms/step - loss: 0.0258 - mae: 0.1032 - val_loss: 0.0262 - val_mae: 0.1108\n",
      "Epoch 12/50\n",
      "\u001b[1m270/270\u001b[0m \u001b[32m━━━━━━━━━━━━━━━━━━━━\u001b[0m\u001b[37m\u001b[0m \u001b[1m0s\u001b[0m 1ms/step - loss: 0.0240 - mae: 0.1018 - val_loss: 0.0182 - val_mae: 0.0962\n",
      "Epoch 13/50\n",
      "\u001b[1m270/270\u001b[0m \u001b[32m━━━━━━━━━━━━━━━━━━━━\u001b[0m\u001b[37m\u001b[0m \u001b[1m0s\u001b[0m 1ms/step - loss: 0.0177 - mae: 0.0883 - val_loss: 0.0165 - val_mae: 0.0926\n",
      "Epoch 14/50\n",
      "\u001b[1m270/270\u001b[0m \u001b[32m━━━━━━━━━━━━━━━━━━━━\u001b[0m\u001b[37m\u001b[0m \u001b[1m0s\u001b[0m 965us/step - loss: 0.0163 - mae: 0.0847 - val_loss: 0.0135 - val_mae: 0.0804\n",
      "Epoch 15/50\n",
      "\u001b[1m270/270\u001b[0m \u001b[32m━━━━━━━━━━━━━━━━━━━━\u001b[0m\u001b[37m\u001b[0m \u001b[1m0s\u001b[0m 1ms/step - loss: 0.0165 - mae: 0.0855 - val_loss: 0.0339 - val_mae: 0.1106\n",
      "Epoch 16/50\n",
      "\u001b[1m270/270\u001b[0m \u001b[32m━━━━━━━━━━━━━━━━━━━━\u001b[0m\u001b[37m\u001b[0m \u001b[1m0s\u001b[0m 974us/step - loss: 0.0163 - mae: 0.0865 - val_loss: 0.0164 - val_mae: 0.1003\n",
      "Epoch 17/50\n",
      "\u001b[1m270/270\u001b[0m \u001b[32m━━━━━━━━━━━━━━━━━━━━\u001b[0m\u001b[37m\u001b[0m \u001b[1m0s\u001b[0m 967us/step - loss: 0.0140 - mae: 0.0815 - val_loss: 0.0141 - val_mae: 0.0916\n",
      "Epoch 18/50\n",
      "\u001b[1m270/270\u001b[0m \u001b[32m━━━━━━━━━━━━━━━━━━━━\u001b[0m\u001b[37m\u001b[0m \u001b[1m0s\u001b[0m 954us/step - loss: 0.0115 - mae: 0.0741 - val_loss: 0.0091 - val_mae: 0.0690\n",
      "Epoch 19/50\n",
      "\u001b[1m270/270\u001b[0m \u001b[32m━━━━━━━━━━━━━━━━━━━━\u001b[0m\u001b[37m\u001b[0m \u001b[1m0s\u001b[0m 961us/step - loss: 0.0143 - mae: 0.0821 - val_loss: 0.0189 - val_mae: 0.0919\n",
      "Epoch 20/50\n",
      "\u001b[1m270/270\u001b[0m \u001b[32m━━━━━━━━━━━━━━━━━━━━\u001b[0m\u001b[37m\u001b[0m \u001b[1m0s\u001b[0m 979us/step - loss: 0.0115 - mae: 0.0744 - val_loss: 0.0113 - val_mae: 0.0696\n",
      "Epoch 21/50\n",
      "\u001b[1m270/270\u001b[0m \u001b[32m━━━━━━━━━━━━━━━━━━━━\u001b[0m\u001b[37m\u001b[0m \u001b[1m0s\u001b[0m 948us/step - loss: 0.0104 - mae: 0.0710 - val_loss: 0.0199 - val_mae: 0.0993\n",
      "Epoch 22/50\n",
      "\u001b[1m270/270\u001b[0m \u001b[32m━━━━━━━━━━━━━━━━━━━━\u001b[0m\u001b[37m\u001b[0m \u001b[1m0s\u001b[0m 978us/step - loss: 0.0109 - mae: 0.0718 - val_loss: 0.0367 - val_mae: 0.1333\n",
      "Epoch 23/50\n",
      "\u001b[1m270/270\u001b[0m \u001b[32m━━━━━━━━━━━━━━━━━━━━\u001b[0m\u001b[37m\u001b[0m \u001b[1m0s\u001b[0m 977us/step - loss: 0.0122 - mae: 0.0758 - val_loss: 0.0104 - val_mae: 0.0776\n",
      "Epoch 24/50\n",
      "\u001b[1m270/270\u001b[0m \u001b[32m━━━━━━━━━━━━━━━━━━━━\u001b[0m\u001b[37m\u001b[0m \u001b[1m0s\u001b[0m 972us/step - loss: 0.0118 - mae: 0.0732 - val_loss: 0.0197 - val_mae: 0.0914\n",
      "Epoch 25/50\n",
      "\u001b[1m270/270\u001b[0m \u001b[32m━━━━━━━━━━━━━━━━━━━━\u001b[0m\u001b[37m\u001b[0m \u001b[1m0s\u001b[0m 979us/step - loss: 0.0104 - mae: 0.0701 - val_loss: 0.0102 - val_mae: 0.0720\n",
      "Epoch 26/50\n",
      "\u001b[1m270/270\u001b[0m \u001b[32m━━━━━━━━━━━━━━━━━━━━\u001b[0m\u001b[37m\u001b[0m \u001b[1m0s\u001b[0m 970us/step - loss: 0.0076 - mae: 0.0620 - val_loss: 0.0087 - val_mae: 0.0638\n",
      "Epoch 27/50\n",
      "\u001b[1m270/270\u001b[0m \u001b[32m━━━━━━━━━━━━━━━━━━━━\u001b[0m\u001b[37m\u001b[0m \u001b[1m0s\u001b[0m 978us/step - loss: 0.0116 - mae: 0.0738 - val_loss: 0.0120 - val_mae: 0.0828\n",
      "Epoch 28/50\n",
      "\u001b[1m270/270\u001b[0m \u001b[32m━━━━━━━━━━━━━━━━━━━━\u001b[0m\u001b[37m\u001b[0m \u001b[1m0s\u001b[0m 973us/step - loss: 0.0096 - mae: 0.0669 - val_loss: 0.0156 - val_mae: 0.1027\n",
      "Epoch 29/50\n",
      "\u001b[1m270/270\u001b[0m \u001b[32m━━━━━━━━━━━━━━━━━━━━\u001b[0m\u001b[37m\u001b[0m \u001b[1m0s\u001b[0m 944us/step - loss: 0.0109 - mae: 0.0709 - val_loss: 0.0095 - val_mae: 0.0575\n",
      "Epoch 30/50\n",
      "\u001b[1m270/270\u001b[0m \u001b[32m━━━━━━━━━━━━━━━━━━━━\u001b[0m\u001b[37m\u001b[0m \u001b[1m0s\u001b[0m 1ms/step - loss: 0.0103 - mae: 0.0694 - val_loss: 0.0108 - val_mae: 0.0747\n",
      "Epoch 31/50\n",
      "\u001b[1m270/270\u001b[0m \u001b[32m━━━━━━━━━━━━━━━━━━━━\u001b[0m\u001b[37m\u001b[0m \u001b[1m0s\u001b[0m 964us/step - loss: 0.0084 - mae: 0.0629 - val_loss: 0.0083 - val_mae: 0.0606\n",
      "Epoch 32/50\n",
      "\u001b[1m270/270\u001b[0m \u001b[32m━━━━━━━━━━━━━━━━━━━━\u001b[0m\u001b[37m\u001b[0m \u001b[1m0s\u001b[0m 966us/step - loss: 0.0068 - mae: 0.0569 - val_loss: 0.0088 - val_mae: 0.0676\n",
      "Epoch 33/50\n",
      "\u001b[1m270/270\u001b[0m \u001b[32m━━━━━━━━━━━━━━━━━━━━\u001b[0m\u001b[37m\u001b[0m \u001b[1m0s\u001b[0m 946us/step - loss: 0.0110 - mae: 0.0699 - val_loss: 0.0052 - val_mae: 0.0508\n",
      "Epoch 34/50\n",
      "\u001b[1m270/270\u001b[0m \u001b[32m━━━━━━━━━━━━━━━━━━━━\u001b[0m\u001b[37m\u001b[0m \u001b[1m0s\u001b[0m 978us/step - loss: 0.0069 - mae: 0.0558 - val_loss: 0.0068 - val_mae: 0.0622\n",
      "Epoch 35/50\n",
      "\u001b[1m270/270\u001b[0m \u001b[32m━━━━━━━━━━━━━━━━━━━━\u001b[0m\u001b[37m\u001b[0m \u001b[1m0s\u001b[0m 969us/step - loss: 0.0088 - mae: 0.0638 - val_loss: 0.0094 - val_mae: 0.0596\n",
      "Epoch 36/50\n",
      "\u001b[1m270/270\u001b[0m \u001b[32m━━━━━━━━━━━━━━━━━━━━\u001b[0m\u001b[37m\u001b[0m \u001b[1m0s\u001b[0m 946us/step - loss: 0.0084 - mae: 0.0625 - val_loss: 0.0075 - val_mae: 0.0499\n",
      "Epoch 37/50\n",
      "\u001b[1m270/270\u001b[0m \u001b[32m━━━━━━━━━━━━━━━━━━━━\u001b[0m\u001b[37m\u001b[0m \u001b[1m0s\u001b[0m 961us/step - loss: 0.0052 - mae: 0.0511 - val_loss: 0.0303 - val_mae: 0.1258\n",
      "Epoch 38/50\n",
      "\u001b[1m270/270\u001b[0m \u001b[32m━━━━━━━━━━━━━━━━━━━━\u001b[0m\u001b[37m\u001b[0m \u001b[1m0s\u001b[0m 975us/step - loss: 0.0077 - mae: 0.0567 - val_loss: 0.0064 - val_mae: 0.0508\n",
      "Epoch 39/50\n",
      "\u001b[1m270/270\u001b[0m \u001b[32m━━━━━━━━━━━━━━━━━━━━\u001b[0m\u001b[37m\u001b[0m \u001b[1m0s\u001b[0m 979us/step - loss: 0.0068 - mae: 0.0548 - val_loss: 0.0368 - val_mae: 0.1356\n",
      "Epoch 40/50\n",
      "\u001b[1m270/270\u001b[0m \u001b[32m━━━━━━━━━━━━━━━━━━━━\u001b[0m\u001b[37m\u001b[0m \u001b[1m0s\u001b[0m 964us/step - loss: 0.0102 - mae: 0.0677 - val_loss: 0.0104 - val_mae: 0.0787\n",
      "Epoch 41/50\n",
      "\u001b[1m270/270\u001b[0m \u001b[32m━━━━━━━━━━━━━━━━━━━━\u001b[0m\u001b[37m\u001b[0m \u001b[1m0s\u001b[0m 1ms/step - loss: 0.0077 - mae: 0.0583 - val_loss: 0.0052 - val_mae: 0.0468\n",
      "Epoch 42/50\n",
      "\u001b[1m270/270\u001b[0m \u001b[32m━━━━━━━━━━━━━━━━━━━━\u001b[0m\u001b[37m\u001b[0m \u001b[1m0s\u001b[0m 964us/step - loss: 0.0063 - mae: 0.0543 - val_loss: 0.0055 - val_mae: 0.0491\n",
      "Epoch 43/50\n",
      "\u001b[1m270/270\u001b[0m \u001b[32m━━━━━━━━━━━━━━━━━━━━\u001b[0m\u001b[37m\u001b[0m \u001b[1m0s\u001b[0m 971us/step - loss: 0.0052 - mae: 0.0498 - val_loss: 0.0036 - val_mae: 0.0420\n",
      "Epoch 44/50\n",
      "\u001b[1m270/270\u001b[0m \u001b[32m━━━━━━━━━━━━━━━━━━━━\u001b[0m\u001b[37m\u001b[0m \u001b[1m0s\u001b[0m 958us/step - loss: 0.0078 - mae: 0.0558 - val_loss: 0.0223 - val_mae: 0.1083\n",
      "Epoch 45/50\n",
      "\u001b[1m270/270\u001b[0m \u001b[32m━━━━━━━━━━━━━━━━━━━━\u001b[0m\u001b[37m\u001b[0m \u001b[1m0s\u001b[0m 969us/step - loss: 0.0102 - mae: 0.0677 - val_loss: 0.0086 - val_mae: 0.0667\n",
      "Epoch 46/50\n",
      "\u001b[1m270/270\u001b[0m \u001b[32m━━━━━━━━━━━━━━━━━━━━\u001b[0m\u001b[37m\u001b[0m \u001b[1m0s\u001b[0m 972us/step - loss: 0.0046 - mae: 0.0469 - val_loss: 0.0037 - val_mae: 0.0406\n",
      "Epoch 47/50\n",
      "\u001b[1m270/270\u001b[0m \u001b[32m━━━━━━━━━━━━━━━━━━━━\u001b[0m\u001b[37m\u001b[0m \u001b[1m0s\u001b[0m 963us/step - loss: 0.0104 - mae: 0.0671 - val_loss: 0.0064 - val_mae: 0.0613\n",
      "Epoch 48/50\n",
      "\u001b[1m270/270\u001b[0m \u001b[32m━━━━━━━━━━━━━━━━━━━━\u001b[0m\u001b[37m\u001b[0m \u001b[1m0s\u001b[0m 993us/step - loss: 0.0058 - mae: 0.0503 - val_loss: 0.0097 - val_mae: 0.0639\n",
      "Epoch 49/50\n",
      "\u001b[1m270/270\u001b[0m \u001b[32m━━━━━━━━━━━━━━━━━━━━\u001b[0m\u001b[37m\u001b[0m \u001b[1m0s\u001b[0m 993us/step - loss: 0.0108 - mae: 0.0597 - val_loss: 0.0053 - val_mae: 0.0505\n",
      "Epoch 50/50\n",
      "\u001b[1m270/270\u001b[0m \u001b[32m━━━━━━━━━━━━━━━━━━━━\u001b[0m\u001b[37m\u001b[0m \u001b[1m0s\u001b[0m 966us/step - loss: 0.0040 - mae: 0.0438 - val_loss: 0.0056 - val_mae: 0.0582\n"
     ]
    }
   ],
   "source": [
    "history = model.fit(X_train, y_train, epochs=50, batch_size=32,\n",
    "                    validation_split=0.2, verbose=1)"
   ]
  },
  {
   "cell_type": "code",
   "execution_count": null,
   "id": "a8a9a7ca",
   "metadata": {},
   "outputs": [
    {
     "ename": "NameError",
     "evalue": "name 'x_vals' is not defined",
     "output_type": "error",
     "traceback": [
      "\u001b[31m---------------------------------------------------------------------------\u001b[39m",
      "\u001b[31mNameError\u001b[39m                                 Traceback (most recent call last)",
      "\u001b[36mCell\u001b[39m\u001b[36m \u001b[39m\u001b[32mIn[15]\u001b[39m\u001b[32m, line 2\u001b[39m\n\u001b[32m      1\u001b[39m plt.figure(figsize=(\u001b[32m6\u001b[39m,\u001b[32m4\u001b[39m))\n\u001b[32m----> \u001b[39m\u001b[32m2\u001b[39m plt.plot(\u001b[43mx_vals\u001b[49m, y_vals, label=\u001b[33mf\u001b[39m\u001b[33m\"\u001b[39m\u001b[33m$\u001b[39m\u001b[38;5;132;01m{\u001b[39;00ma\u001b[38;5;132;01m:\u001b[39;00m\u001b[33m.2f\u001b[39m\u001b[38;5;132;01m}\u001b[39;00m\u001b[33mx^2 + \u001b[39m\u001b[38;5;132;01m{\u001b[39;00mb\u001b[38;5;132;01m:\u001b[39;00m\u001b[33m.2f\u001b[39m\u001b[38;5;132;01m}\u001b[39;00m\u001b[33mx + \u001b[39m\u001b[38;5;132;01m{\u001b[39;00mc\u001b[38;5;132;01m:\u001b[39;00m\u001b[33m.2f\u001b[39m\u001b[38;5;132;01m}\u001b[39;00m\u001b[33m$\u001b[39m\u001b[33m\"\u001b[39m)\n\u001b[32m      3\u001b[39m plt.axhline(\u001b[32m0\u001b[39m, color=\u001b[33m\"\u001b[39m\u001b[33mblack\u001b[39m\u001b[33m\"\u001b[39m, linewidth=\u001b[32m0.8\u001b[39m)  \u001b[38;5;66;03m# eje X\u001b[39;00m\n\u001b[32m      4\u001b[39m plt.axvline(\u001b[32m0\u001b[39m, color=\u001b[33m\"\u001b[39m\u001b[33mblack\u001b[39m\u001b[33m\"\u001b[39m, linewidth=\u001b[32m0.8\u001b[39m)  \u001b[38;5;66;03m# eje Y\u001b[39;00m\n",
      "\u001b[31mNameError\u001b[39m: name 'x_vals' is not defined"
     ]
    },
    {
     "data": {
      "text/plain": [
       "<Figure size 600x400 with 0 Axes>"
      ]
     },
     "metadata": {},
     "output_type": "display_data"
    }
   ],
   "source": []
  },
  {
   "cell_type": "code",
   "execution_count": 5,
   "id": "32caed1a",
   "metadata": {},
   "outputs": [
    {
     "name": "stdout",
     "output_type": "stream",
     "text": [
      "\u001b[1m85/85\u001b[0m \u001b[32m━━━━━━━━━━━━━━━━━━━━\u001b[0m\u001b[37m\u001b[0m \u001b[1m0s\u001b[0m 1ms/step - loss: 0.0032 - mae: 0.0391\n",
      "Error en test - Loss: 0.0032, MAE: 0.0391\n"
     ]
    }
   ],
   "source": [
    "loss, mae = model.evaluate(X_test, y_test)\n",
    "print(f\"Error en test - Loss: {loss:.4f}, MAE: {mae:.4f}\")"
   ]
  },
  {
   "cell_type": "code",
   "execution_count": null,
   "id": "701b7d6b",
   "metadata": {},
   "outputs": [
    {
     "name": "stdout",
     "output_type": "stream",
     "text": [
      "\u001b[1m1/1\u001b[0m \u001b[32m━━━━━━━━━━━━━━━━━━━━\u001b[0m\u001b[37m\u001b[0m \u001b[1m0s\u001b[0m 38ms/step\n",
      "Coeficientes: (1, -5, 6)\n",
      "Predicción NN: [3.527449  1.4459498]\n",
      "Solución real: [np.float64(3.0), np.float64(2.0)]\n"
     ]
    }
   ],
   "source": [
    "a, b, c = 1, -5, 6  \n",
    "pred = model.predict(np.array([[a, b, c]]))\n",
    "print(\"Coeficientes:\", (a, b, c))\n",
    "print(\"Predicción NN:\", pred[0])\n",
    "print(\"Solución real:\", [(-b+np.sqrt(b**2-4*a*c))/(2*a), (-b-np.sqrt(b**2-4*a*c))/(2*a)])"
   ]
  }
 ],
 "metadata": {
  "kernelspec": {
   "display_name": "Python 3",
   "language": "python",
   "name": "python3"
  },
  "language_info": {
   "codemirror_mode": {
    "name": "ipython",
    "version": 3
   },
   "file_extension": ".py",
   "mimetype": "text/x-python",
   "name": "python",
   "nbconvert_exporter": "python",
   "pygments_lexer": "ipython3",
   "version": "3.13.5"
  }
 },
 "nbformat": 4,
 "nbformat_minor": 5
}
