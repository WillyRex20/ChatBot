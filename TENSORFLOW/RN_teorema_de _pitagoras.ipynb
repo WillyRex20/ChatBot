{
 "cells": [
  {
   "cell_type": "markdown",
   "id": "8061da46",
   "metadata": {},
   "source": [
    "## Entrenar una red neuronal para que aprenda a reconocer la teorema de pitagoras apartir de dos catetos"
   ]
  },
  {
   "cell_type": "code",
   "execution_count": 1,
   "id": "546b31b9",
   "metadata": {},
   "outputs": [],
   "source": [
    "import numpy as np\n",
    "import tensorflow as tf\n",
    "from tensorflow import keras\n",
    "from keras import layers, models\n",
    "import matplotlib.pyplot as plt"
   ]
  },
  {
   "cell_type": "markdown",
   "id": "d0c01c91",
   "metadata": {},
   "source": [
    "Generacion de datos"
   ]
  },
  {
   "cell_type": "code",
   "execution_count": 2,
   "id": "df6b6174",
   "metadata": {},
   "outputs": [],
   "source": [
    "def generar_datos(num_ejemplos):\n",
    "    a = np.random.uniform(0,10,num_ejemplos)\n",
    "    b = np.random.uniform(0,10,num_ejemplos)\n",
    "    c = np.sqrt(a**2 + b**2)\n",
    "    return np.column_stack((a,b)), c\n"
   ]
  },
  {
   "cell_type": "markdown",
   "id": "d1213946",
   "metadata": {},
   "source": [
    "Generar los datos de Entrenamiento"
   ]
  },
  {
   "cell_type": "code",
   "execution_count": 3,
   "id": "a4e45380",
   "metadata": {},
   "outputs": [],
   "source": [
    "num_ejemplos = 100000\n",
    "train_data, train_labels = generar_datos(num_ejemplos)\n",
    "test_data, test_labels = generar_datos(int(num_ejemplos * 0.2))"
   ]
  },
  {
   "cell_type": "markdown",
   "id": "a48f3203",
   "metadata": {},
   "source": [
    "Construccion del modelo"
   ]
  },
  {
   "cell_type": "code",
   "execution_count": 4,
   "id": "347b9314",
   "metadata": {},
   "outputs": [
    {
     "name": "stderr",
     "output_type": "stream",
     "text": [
      "c:\\Users\\Estudiante\\AppData\\Local\\Programs\\Python\\Python313\\Lib\\site-packages\\keras\\src\\layers\\core\\dense.py:92: UserWarning: Do not pass an `input_shape`/`input_dim` argument to a layer. When using Sequential models, prefer using an `Input(shape)` object as the first layer in the model instead.\n",
      "  super().__init__(activity_regularizer=activity_regularizer, **kwargs)\n"
     ]
    }
   ],
   "source": [
    "model = models.Sequential([\n",
    "    layers.Dense(64,activation='relu',input_shape=(2,)),\n",
    "    layers.Dense(64,activation='relu'),\n",
    "    layers.Dense(1) #El valor de la hipotenusa\n",
    "])"
   ]
  },
  {
   "cell_type": "markdown",
   "id": "0873d244",
   "metadata": {},
   "source": [
    "Compilacion del modelo"
   ]
  },
  {
   "cell_type": "code",
   "execution_count": 5,
   "id": "0bd0cdf2",
   "metadata": {},
   "outputs": [],
   "source": [
    "model.compile(optimizer='adam', loss='mse')#mean saquarter error"
   ]
  },
  {
   "cell_type": "markdown",
   "id": "2ceb0277",
   "metadata": {},
   "source": [
    "dEntrenamos el modelo de red neuronal"
   ]
  },
  {
   "cell_type": "code",
   "execution_count": 6,
   "id": "4d5d423c",
   "metadata": {},
   "outputs": [
    {
     "name": "stdout",
     "output_type": "stream",
     "text": [
      "Epoch 1/20\n",
      "\u001b[1m3125/3125\u001b[0m \u001b[32m━━━━━━━━━━━━━━━━━━━━\u001b[0m\u001b[37m\u001b[0m \u001b[1m3s\u001b[0m 758us/step - loss: 0.4107 - val_loss: 4.0914e-05\n",
      "Epoch 2/20\n",
      "\u001b[1m3125/3125\u001b[0m \u001b[32m━━━━━━━━━━━━━━━━━━━━\u001b[0m\u001b[37m\u001b[0m \u001b[1m2s\u001b[0m 754us/step - loss: 3.3307e-05 - val_loss: 1.3942e-05\n",
      "Epoch 3/20\n",
      "\u001b[1m3125/3125\u001b[0m \u001b[32m━━━━━━━━━━━━━━━━━━━━\u001b[0m\u001b[37m\u001b[0m \u001b[1m2s\u001b[0m 754us/step - loss: 1.3986e-04 - val_loss: 5.6858e-05\n",
      "Epoch 4/20\n",
      "\u001b[1m3125/3125\u001b[0m \u001b[32m━━━━━━━━━━━━━━━━━━━━\u001b[0m\u001b[37m\u001b[0m \u001b[1m2s\u001b[0m 740us/step - loss: 1.5635e-04 - val_loss: 1.8171e-05\n",
      "Epoch 5/20\n",
      "\u001b[1m3125/3125\u001b[0m \u001b[32m━━━━━━━━━━━━━━━━━━━━\u001b[0m\u001b[37m\u001b[0m \u001b[1m2s\u001b[0m 743us/step - loss: 1.8596e-04 - val_loss: 3.8328e-04\n",
      "Epoch 6/20\n",
      "\u001b[1m3125/3125\u001b[0m \u001b[32m━━━━━━━━━━━━━━━━━━━━\u001b[0m\u001b[37m\u001b[0m \u001b[1m2s\u001b[0m 738us/step - loss: 1.1684e-04 - val_loss: 2.7554e-05\n",
      "Epoch 7/20\n",
      "\u001b[1m3125/3125\u001b[0m \u001b[32m━━━━━━━━━━━━━━━━━━━━\u001b[0m\u001b[37m\u001b[0m \u001b[1m2s\u001b[0m 761us/step - loss: 1.2451e-04 - val_loss: 3.3570e-05\n",
      "Epoch 8/20\n",
      "\u001b[1m3125/3125\u001b[0m \u001b[32m━━━━━━━━━━━━━━━━━━━━\u001b[0m\u001b[37m\u001b[0m \u001b[1m2s\u001b[0m 743us/step - loss: 1.0139e-04 - val_loss: 6.1892e-06\n",
      "Epoch 9/20\n",
      "\u001b[1m3125/3125\u001b[0m \u001b[32m━━━━━━━━━━━━━━━━━━━━\u001b[0m\u001b[37m\u001b[0m \u001b[1m2s\u001b[0m 733us/step - loss: 1.1548e-04 - val_loss: 2.5135e-05\n",
      "Epoch 10/20\n",
      "\u001b[1m3125/3125\u001b[0m \u001b[32m━━━━━━━━━━━━━━━━━━━━\u001b[0m\u001b[37m\u001b[0m \u001b[1m2s\u001b[0m 742us/step - loss: 8.2124e-05 - val_loss: 7.5563e-06\n",
      "Epoch 11/20\n",
      "\u001b[1m3125/3125\u001b[0m \u001b[32m━━━━━━━━━━━━━━━━━━━━\u001b[0m\u001b[37m\u001b[0m \u001b[1m2s\u001b[0m 728us/step - loss: 1.4781e-04 - val_loss: 3.4253e-06\n",
      "Epoch 12/20\n",
      "\u001b[1m3125/3125\u001b[0m \u001b[32m━━━━━━━━━━━━━━━━━━━━\u001b[0m\u001b[37m\u001b[0m \u001b[1m3s\u001b[0m 1ms/step - loss: 6.9980e-05 - val_loss: 1.1998e-05\n",
      "Epoch 13/20\n",
      "\u001b[1m3125/3125\u001b[0m \u001b[32m━━━━━━━━━━━━━━━━━━━━\u001b[0m\u001b[37m\u001b[0m \u001b[1m7s\u001b[0m 2ms/step - loss: 9.9241e-05 - val_loss: 4.0693e-06\n",
      "Epoch 14/20\n",
      "\u001b[1m3125/3125\u001b[0m \u001b[32m━━━━━━━━━━━━━━━━━━━━\u001b[0m\u001b[37m\u001b[0m \u001b[1m9s\u001b[0m 1ms/step - loss: 7.7761e-05 - val_loss: 6.4953e-06\n",
      "Epoch 15/20\n",
      "\u001b[1m3125/3125\u001b[0m \u001b[32m━━━━━━━━━━━━━━━━━━━━\u001b[0m\u001b[37m\u001b[0m \u001b[1m5s\u001b[0m 1ms/step - loss: 9.9607e-05 - val_loss: 4.9041e-06\n",
      "Epoch 16/20\n",
      "\u001b[1m3125/3125\u001b[0m \u001b[32m━━━━━━━━━━━━━━━━━━━━\u001b[0m\u001b[37m\u001b[0m \u001b[1m5s\u001b[0m 1ms/step - loss: 9.4600e-05 - val_loss: 0.0054\n",
      "Epoch 17/20\n",
      "\u001b[1m3125/3125\u001b[0m \u001b[32m━━━━━━━━━━━━━━━━━━━━\u001b[0m\u001b[37m\u001b[0m \u001b[1m5s\u001b[0m 1ms/step - loss: 8.4050e-05 - val_loss: 9.4066e-06\n",
      "Epoch 18/20\n",
      "\u001b[1m3125/3125\u001b[0m \u001b[32m━━━━━━━━━━━━━━━━━━━━\u001b[0m\u001b[37m\u001b[0m \u001b[1m5s\u001b[0m 1ms/step - loss: 9.4079e-05 - val_loss: 5.5416e-05\n",
      "Epoch 19/20\n",
      "\u001b[1m3125/3125\u001b[0m \u001b[32m━━━━━━━━━━━━━━━━━━━━\u001b[0m\u001b[37m\u001b[0m \u001b[1m5s\u001b[0m 1ms/step - loss: 7.7841e-05 - val_loss: 5.7352e-06\n",
      "Epoch 20/20\n",
      "\u001b[1m3125/3125\u001b[0m \u001b[32m━━━━━━━━━━━━━━━━━━━━\u001b[0m\u001b[37m\u001b[0m \u001b[1m6s\u001b[0m 2ms/step - loss: 7.4706e-05 - val_loss: 6.2371e-05\n"
     ]
    }
   ],
   "source": [
    "historial=model.fit(train_data,train_labels,epochs=20,batch_size=32,validation_data=(test_data,test_labels))"
   ]
  },
  {
   "cell_type": "markdown",
   "id": "ee0c3bed",
   "metadata": {},
   "source": [
    "Graficamos el historial de entrenamiemto"
   ]
  },
  {
   "cell_type": "code",
   "execution_count": 7,
   "id": "c07e3e66",
   "metadata": {},
   "outputs": [
    {
     "data": {
      "text/plain": [
       "[<matplotlib.lines.Line2D at 0x26cecd35090>]"
      ]
     },
     "execution_count": 7,
     "metadata": {},
     "output_type": "execute_result"
    },
    {
     "data": {
      "image/png": "[encoded data removed]",
      "text/plain": [
       "<Figure size 640x480 with 1 Axes>"
      ]
     },
     "metadata": {},
     "output_type": "display_data"
    }
   ],
   "source": [
    "plt.xlabel('# Epoca')\n",
    "plt.ylabel('magnitud de perdida')\n",
    "plt.plot(historial.history['loss'])"
   ]
  },
  {
   "cell_type": "markdown",
   "id": "4ffcfcf7",
   "metadata": {},
   "source": [
    "Evaluacion del modelo"
   ]
  },
  {
   "cell_type": "code",
   "execution_count": 8,
   "id": "020cea5b",
   "metadata": {},
   "outputs": [
    {
     "name": "stdout",
     "output_type": "stream",
     "text": [
      "\u001b[1m625/625\u001b[0m \u001b[32m━━━━━━━━━━━━━━━━━━━━\u001b[0m\u001b[37m\u001b[0m \u001b[1m1s\u001b[0m 1ms/step - loss: 6.2371e-05  \n",
      "Perdida en el conjunto de prueba: 6.237142952159047e-05\n"
     ]
    }
   ],
   "source": [
    "test_loss = model.evaluate(test_data, test_labels)\n",
    "print(f\"Perdida en el conjunto de prueba: {test_loss}\")"
   ]
  },
  {
   "cell_type": "markdown",
   "id": "db0ce395",
   "metadata": {},
   "source": [
    "Prediccion del teorema de pitagoras con otros datos"
   ]
  },
  {
   "cell_type": "code",
   "execution_count": 9,
   "id": "bc11e215",
   "metadata": {},
   "outputs": [
    {
     "name": "stdout",
     "output_type": "stream",
     "text": [
      "\u001b[1m1/1\u001b[0m \u001b[32m━━━━━━━━━━━━━━━━━━━━\u001b[0m\u001b[37m\u001b[0m \u001b[1m0s\u001b[0m 64ms/step\n",
      "Hipotenusa predecida: [[ 4.993968]\n",
      " [ 9.989686]\n",
      " [64.90329 ]]\n"
     ]
    }
   ],
   "source": [
    "nuevos_datos = np.array([[3, 4],[6,8],[25,60]])\n",
    "hipotenusa_pred = model.predict(nuevos_datos)\n",
    "print (f'Hipotenusa predecida: {hipotenusa_pred}')\n"
   ]
  }
 ],
 "metadata": {
  "kernelspec": {
   "display_name": "Python 3",
   "language": "python",
   "name": "python3"
  },
  "language_info": {
   "codemirror_mode": {
    "name": "ipython",
    "version": 3
   },
   "file_extension": ".py",
   "mimetype": "text/x-python",
   "name": "python",
   "nbconvert_exporter": "python",
   "pygments_lexer": "ipython3",
   "version": "3.13.5"
  }
 },
 "nbformat": 4,
 "nbformat_minor": 5
}
